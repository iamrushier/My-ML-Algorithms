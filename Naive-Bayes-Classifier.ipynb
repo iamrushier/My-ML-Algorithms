{
 "cells": [
  {
   "cell_type": "code",
   "execution_count": 1,
   "metadata": {
    "id": "DGZJF6-c66Z6"
   },
   "outputs": [],
   "source": [
    "#Works on both data\n",
    "\n",
    "import pandas as pd\n",
    "\n",
    "# Generalized implementation of Naive Bayes Classifier\n",
    "class NaiveBayes:\n",
    "\n",
    "  def __init__(self,data_frame):\n",
    "    # Initialize data\n",
    "    self.data_frame=data_frame\n",
    "    self.classes=self.data_frame[self.data_frame.columns[-1]].unique()\n",
    "    self.cond_count={}\n",
    "    self.class_count={}\n",
    "    self.class_title = self.data_frame.columns[-1]\n",
    "    self.total_rows = self.data_frame[self.class_title].count()\n",
    "\n",
    "    for val in self.classes:\n",
    "      self.class_count[val] = self.data_frame[self.class_title].value_counts()[val]\n",
    "\n",
    "    # Convert all values to string form\n",
    "    for column_title in self.data_frame.columns:\n",
    "      self.data_frame[column_title] = self.data_frame[column_title].astype(str)\n",
    "\n",
    "  def train(self):\n",
    "    unique_per_column=[list(self.data_frame[column].unique()) for column in self.data_frame]\n",
    "    temp_list=[]\n",
    "\n",
    "    for class_val in self.classes:\n",
    "      for col_head in self.data_frame.columns[:-1]:\n",
    "        for one in self.data_frame[col_head].unique():\n",
    "          temp_list.append((col_head,one,class_val))\n",
    "    self.cond_count.update(dict.fromkeys(temp_list,0))\n",
    "\n",
    "    for classVal in self.classes:\n",
    "      selected_rows = self.data_frame[self.data_frame[self.class_title] == classVal]\n",
    "      for col in self.data_frame.columns[:-1]:\n",
    "        counts=selected_rows[col].value_counts()\n",
    "        for value, count in counts.items():\n",
    "          self.cond_count[(col,value,classVal)]=count\n",
    "\n",
    "  def predict(self,*data_object):\n",
    "    print(type(data_object))\n",
    "    print(type(data_object[0]))\n",
    "    prediction=''\n",
    "    prob=0\n",
    "    for classVal in self.classes:\n",
    "      numerator=1\n",
    "      times=0\n",
    "      for ind in range(len(data_object)):\n",
    "        numerator = numerator * self.cond_count[(self.data_frame.columns[ind],data_object[ind],classVal)]\n",
    "        times+=1\n",
    "      # Due to calculation of power, limit on maximum number of columns in dataset\n",
    "      prob_temp = numerator / ( self.class_count[classVal]**(times-1) * self.total_rows )\n",
    "      if prob_temp>=prob:\n",
    "        prob=prob_temp\n",
    "        prediction=classVal\n",
    "    # Returns predicted class value and probability\n",
    "    return prediction,prob"
   ]
  },
  {
   "cell_type": "code",
   "execution_count": 2,
   "metadata": {
    "id": "7l5wJc-S68Q1"
   },
   "outputs": [
    {
     "name": "stdout",
     "output_type": "stream",
     "text": [
      "<class 'tuple'>\n",
      "<class 'str'>\n",
      "('P', 0.0564373897707231)\n",
      "<class 'tuple'>\n",
      "<class 'str'>\n",
      "('N', 0.018285714285714287)\n",
      "<class 'tuple'>\n",
      "<class 'str'>\n",
      "('P', 0.021164021164021163)\n",
      "<class 'tuple'>\n",
      "<class 'str'>\n",
      "('Y', 0.024)\n"
     ]
    }
   ],
   "source": [
    "import pandas as pd\n",
    "# Last column must be the class label\n",
    "df=pd.read_csv(\"D:/Workspace/Datasets/tennis.csv\")\n",
    "b=NaiveBayes(df)\n",
    "b.train()\n",
    "print(b.predict('overcast','mild','normal','False'))\n",
    "print(b.predict('rain','hot','high','False'))\n",
    "print(b.predict('rain','mild','high','False'))\n",
    "\n",
    "flu=pd.read_csv(\"D:/Workspace/Datasets/flu_symptoms.csv\")\n",
    "dec=NaiveBayes(flu)\n",
    "dec.train()\n",
    "print(dec.predict('Y','N','MILD','Y'))"
   ]
  },
  {
   "cell_type": "code",
   "execution_count": null,
   "metadata": {},
   "outputs": [],
   "source": []
  }
 ],
 "metadata": {
  "colab": {
   "provenance": []
  },
  "kernelspec": {
   "display_name": "Python 3 (ipykernel)",
   "language": "python",
   "name": "python3"
  },
  "language_info": {
   "codemirror_mode": {
    "name": "ipython",
    "version": 3
   },
   "file_extension": ".py",
   "mimetype": "text/x-python",
   "name": "python",
   "nbconvert_exporter": "python",
   "pygments_lexer": "ipython3",
   "version": "3.11.5"
  }
 },
 "nbformat": 4,
 "nbformat_minor": 1
}
